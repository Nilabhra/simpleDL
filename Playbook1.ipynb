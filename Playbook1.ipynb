{
 "cells": [
  {
   "cell_type": "code",
   "execution_count": 9,
   "metadata": {
    "collapsed": true
   },
   "outputs": [],
   "source": [
    "import numpy as np\n",
    "import tensorflow as tf"
   ]
  },
  {
   "cell_type": "code",
   "execution_count": 10,
   "metadata": {
    "collapsed": false
   },
   "outputs": [],
   "source": [
    "from feedforward import FeedForward"
   ]
  },
  {
   "cell_type": "code",
   "execution_count": 11,
   "metadata": {
    "collapsed": false
   },
   "outputs": [],
   "source": [
    "tf.reset_default_graph()\n",
    "mynnet = FeedForward([5, 10, 7, 5, 2], activation=tf.nn.relu)\n",
    "outputs = mynnet.output()"
   ]
  },
  {
   "cell_type": "code",
   "execution_count": 12,
   "metadata": {
    "collapsed": false
   },
   "outputs": [],
   "source": [
    "inp = np.random.normal(size=(20, 5))"
   ]
  },
  {
   "cell_type": "code",
   "execution_count": 13,
   "metadata": {
    "collapsed": true
   },
   "outputs": [],
   "source": [
    "sess = tf.Session()\n",
    "tf.initialize_all_variables().run(session=sess)"
   ]
  },
  {
   "cell_type": "code",
   "execution_count": 14,
   "metadata": {
    "collapsed": false
   },
   "outputs": [],
   "source": [
    "feed_dict = mynnet.get_feed_dict(inp, [0.8, 0.5, 0.5, 0.5])\n",
    "op = sess.run([outputs], feed_dict = feed_dict)"
   ]
  },
  {
   "cell_type": "code",
   "execution_count": 15,
   "metadata": {
    "collapsed": false
   },
   "outputs": [
    {
     "data": {
      "text/plain": [
       "[array([[  3.87748833e+01,   6.51827393e+01],\n",
       "        [ -4.99266863e+00,  -3.00106502e+00],\n",
       "        [ -2.16441612e+01,  -1.02676344e+01],\n",
       "        [ -8.97777710e+01,  -7.54008408e+01],\n",
       "        [  1.18808908e+01,   3.42364120e+01],\n",
       "        [  4.78393593e+01,   7.56422653e+01],\n",
       "        [  5.98508477e-01,  -9.23601568e-01],\n",
       "        [  5.47303772e+01,   5.76387405e+01],\n",
       "        [  1.76504345e+01,   2.60052319e+01],\n",
       "        [  2.50985069e+01,   3.46464691e+01],\n",
       "        [  1.44142258e+02,   1.52375565e+02],\n",
       "        [ -3.10526619e+01,  -2.64118729e+01],\n",
       "        [ -4.29627657e-01,  -8.39400589e-01],\n",
       "        [  3.35989990e+01,   3.52488785e+01],\n",
       "        [  4.44081192e+01,  -6.27071428e+00],\n",
       "        [  1.12834082e+01,  -6.88830018e-02],\n",
       "        [  1.20516329e+01,   2.28013668e+01],\n",
       "        [  1.02567425e+01,   2.05351715e+01],\n",
       "        [ -2.66213722e+01,  -3.42341042e+01],\n",
       "        [  2.66302528e+01,  -3.27138472e+00]], dtype=float32)]"
      ]
     },
     "execution_count": 15,
     "metadata": {},
     "output_type": "execute_result"
    }
   ],
   "source": [
    "op"
   ]
  },
  {
   "cell_type": "code",
   "execution_count": null,
   "metadata": {
    "collapsed": true
   },
   "outputs": [],
   "source": []
  }
 ],
 "metadata": {
  "kernelspec": {
   "display_name": "Python 2",
   "language": "python",
   "name": "python2"
  },
  "language_info": {
   "codemirror_mode": {
    "name": "ipython",
    "version": 2
   },
   "file_extension": ".py",
   "mimetype": "text/x-python",
   "name": "python",
   "nbconvert_exporter": "python",
   "pygments_lexer": "ipython2",
   "version": "2.7.12"
  }
 },
 "nbformat": 4,
 "nbformat_minor": 0
}
